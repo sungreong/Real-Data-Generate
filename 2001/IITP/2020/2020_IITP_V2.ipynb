{
 "cells": [
  {
   "cell_type": "code",
   "execution_count": 113,
   "metadata": {},
   "outputs": [],
   "source": [
    "import pandas as pd , re\n",
    "from copy import deepcopy\n",
    "from sklearn.preprocessing import MinMaxScaler\n",
    "import calendar , numpy as np\n",
    "import itertools\n",
    "import dill"
   ]
  },
  {
   "cell_type": "code",
   "execution_count": 114,
   "metadata": {},
   "outputs": [],
   "source": [
    "USECOL = ['occur', 'farm_no_fake', 'dt', 'chicken', 'turkey', 'duck', 'goose', 'quail', 'ornamental_bird', 'pheasant', 'ostrich', 'wild_bird', 'wild_duck', 'grow_other_species_except_for_poultry', 't_1_livestock_excrement_convey', 't_1_cattle_convey', 't_1_repair_machine', 't_1_animal_medicine_convey', 't_1_feed_convey', 't_1_sampling_disinfect', 't_1_egg_convey', 't_1_straw_convey', 't_1_oil_convey', 't_1_bulky_feed_convey', 't_1_vaccinate', 't_1_consulting', 't_1_maxTmpr', 't_1_minTmpr', 't_1_maxHmdt', 't_1_minHmdt', 't_1_maxWnds', 't_1_minWnds', 't_1_rainfall', 'bird_proof', 'access_control', 'signage', 'foot_bath', 'anteriorroom', 'gate_U_shape_spray', 'gate_ternal_shape_spray', 'gate_high_pressure_washer', 'gate_washstation', 'inside_high_pressure_washer', 'inside_backpack_sprayer']"
   ]
  },
  {
   "cell_type": "code",
   "execution_count": 115,
   "metadata": {},
   "outputs": [
    {
     "name": "stdout",
     "output_type": "stream",
     "text": [
      "After : (265196, 44)\n",
      "After : (347710, 44)\n"
     ]
    }
   ],
   "source": [
    "paths = [\"/var/disk/train_v8_5th_1.ftr\" , \"/var/disk/test_v8_6th_1.ftr\"] #  , \n",
    "result = []\n",
    "for path in paths :\n",
    "    data = pd.read_feather(path)[USECOL]\n",
    "    result.append(data)\n",
    "    print(f\"After : {data.shape}\")\n",
    "    "
   ]
  },
  {
   "cell_type": "code",
   "execution_count": 116,
   "metadata": {},
   "outputs": [],
   "source": [
    "data = pd.concat(result,axis = 0)\n",
    "data = data.reset_index(drop=True)"
   ]
  },
  {
   "cell_type": "code",
   "execution_count": 117,
   "metadata": {},
   "outputs": [],
   "source": [
    "vartype = ['factor', 'numeric', 'date', 'numeric', 'numeric', 'numeric', 'numeric', 'numeric', 'numeric', 'numeric', 'numeric', 'numeric', 'numeric', 'factor', 'numeric', 'numeric', 'numeric', 'numeric', 'numeric', 'numeric', 'numeric', 'numeric', 'numeric', 'numeric', 'numeric', 'numeric', 'numeric', 'numeric', 'numeric', 'numeric', 'numeric', 'numeric', 'numeric', 'factor', 'factor', 'factor', 'factor', 'factor', 'factor', 'factor', 'factor', 'factor', 'factor', 'factor']"
   ]
  },
  {
   "cell_type": "code",
   "execution_count": 118,
   "metadata": {},
   "outputs": [
    {
     "name": "stdout",
     "output_type": "stream",
     "text": [
      "['factor', 'numeric', 'date', 'numeric', 'numeric', 'numeric', 'numeric', 'numeric', 'numeric', 'numeric', 'numeric', 'numeric', 'numeric', 'factor', 'numeric', 'numeric', 'numeric', 'numeric', 'numeric', 'numeric', 'numeric', 'numeric', 'numeric', 'numeric', 'numeric', 'numeric', 'numeric', 'numeric', 'numeric', 'numeric', 'numeric', 'numeric', 'numeric', 'factor', 'factor', 'factor', 'factor', 'factor', 'factor', 'factor', 'factor', 'factor', 'factor', 'factor']\n"
     ]
    }
   ],
   "source": [
    "print(vartype)"
   ]
  },
  {
   "cell_type": "code",
   "execution_count": 119,
   "metadata": {},
   "outputs": [],
   "source": [
    "from datetime import datetime\n",
    "month_day = lambda x: f\"{datetime.strptime(x, '%Y-%m-%d' ).month:02d}-{datetime.strptime(x, '%Y-%m-%d' ).day:02d}\"\n",
    "year_month = lambda x: f\"{datetime.strptime(x, '%Y-%m-%d' ).year}_{datetime.strptime(x, '%Y-%m-%d' ).month}\"\n",
    "totalcols = data.columns.tolist()"
   ]
  },
  {
   "cell_type": "code",
   "execution_count": 120,
   "metadata": {},
   "outputs": [],
   "source": [
    "vartypes = dict(zip(totalcols , vartype))"
   ]
  },
  {
   "cell_type": "code",
   "execution_count": 121,
   "metadata": {},
   "outputs": [],
   "source": [
    "dt2 = deepcopy(data[\"dt\"])\n",
    "year_month = [i.split(\"_\") for i in dt2.apply(year_month).unique().tolist()]"
   ]
  },
  {
   "cell_type": "code",
   "execution_count": 122,
   "metadata": {},
   "outputs": [],
   "source": [
    "days = []\n",
    "lists = []\n",
    "for idx , month in enumerate(np.arange(1,13)) :\n",
    "    year = 2016\n",
    "    result = calendar.monthcalendar(int(year), int(month))\n",
    "    merged = np.arange(1,32)\n",
    "    month_day_v = ['{0:02d}-{1:02d}'.format(int(month) ,i) for i in merged]\n",
    "    days.extend(month_day_v)\n",
    "    if idx == 0 :\n",
    "        lists.extend(merged)\n",
    "        final = merged[-1]\n",
    "    else :\n",
    "        result = [final+1 + i  for i in merged]\n",
    "        final = result[-1]\n",
    "        lists.extend(result)        "
   ]
  },
  {
   "cell_type": "code",
   "execution_count": 123,
   "metadata": {},
   "outputs": [
    {
     "data": {
      "text/plain": [
       "0    10-16\n",
       "1    10-16\n",
       "2    10-16\n",
       "3    10-16\n",
       "4    10-16\n",
       "Name: month_day, dtype: object"
      ]
     },
     "execution_count": 123,
     "metadata": {},
     "output_type": "execute_result"
    }
   ],
   "source": [
    "data[\"month_day\"] = dt2.apply(month_day)\n",
    "data[\"month_day\"].head()"
   ]
  },
  {
   "cell_type": "code",
   "execution_count": 124,
   "metadata": {},
   "outputs": [
    {
     "data": {
      "text/plain": [
       "array([[-1.        ],\n",
       "       [-0.9947644 ],\n",
       "       [-0.9895288 ],\n",
       "       [-0.98429319],\n",
       "       [-0.97905759],\n",
       "       [-0.97382199],\n",
       "       [-0.96858639],\n",
       "       [-0.96335079],\n",
       "       [-0.95811518],\n",
       "       [-0.95287958],\n",
       "       [-0.94764398],\n",
       "       [-0.94240838],\n",
       "       [-0.93717277],\n",
       "       [-0.93193717],\n",
       "       [-0.92670157],\n",
       "       [-0.92146597],\n",
       "       [-0.91623037],\n",
       "       [-0.91099476],\n",
       "       [-0.90575916],\n",
       "       [-0.90052356],\n",
       "       [-0.89528796],\n",
       "       [-0.89005236],\n",
       "       [-0.88481675],\n",
       "       [-0.87958115],\n",
       "       [-0.87434555],\n",
       "       [-0.86910995],\n",
       "       [-0.86387435],\n",
       "       [-0.85863874],\n",
       "       [-0.85340314],\n",
       "       [-0.84816754],\n",
       "       [-0.84293194],\n",
       "       [-0.83246073],\n",
       "       [-0.82722513],\n",
       "       [-0.82198953],\n",
       "       [-0.81675393],\n",
       "       [-0.81151832],\n",
       "       [-0.80628272],\n",
       "       [-0.80104712],\n",
       "       [-0.79581152],\n",
       "       [-0.79057592],\n",
       "       [-0.78534031],\n",
       "       [-0.78010471],\n",
       "       [-0.77486911],\n",
       "       [-0.76963351],\n",
       "       [-0.76439791],\n",
       "       [-0.7591623 ],\n",
       "       [-0.7539267 ],\n",
       "       [-0.7486911 ],\n",
       "       [-0.7434555 ],\n",
       "       [-0.7382199 ],\n",
       "       [-0.73298429],\n",
       "       [-0.72774869],\n",
       "       [-0.72251309],\n",
       "       [-0.71727749],\n",
       "       [-0.71204188],\n",
       "       [-0.70680628],\n",
       "       [-0.70157068],\n",
       "       [-0.69633508],\n",
       "       [-0.69109948],\n",
       "       [-0.68586387],\n",
       "       [-0.68062827],\n",
       "       [-0.67539267],\n",
       "       [-0.66492147],\n",
       "       [-0.65968586],\n",
       "       [-0.65445026],\n",
       "       [-0.64921466],\n",
       "       [-0.64397906],\n",
       "       [-0.63874346],\n",
       "       [-0.63350785],\n",
       "       [-0.62827225],\n",
       "       [-0.62303665],\n",
       "       [-0.61780105],\n",
       "       [-0.61256545],\n",
       "       [-0.60732984],\n",
       "       [-0.60209424],\n",
       "       [-0.59685864],\n",
       "       [-0.59162304],\n",
       "       [-0.58638743],\n",
       "       [-0.58115183],\n",
       "       [-0.57591623],\n",
       "       [-0.57068063],\n",
       "       [-0.56544503],\n",
       "       [-0.56020942],\n",
       "       [-0.55497382],\n",
       "       [-0.54973822],\n",
       "       [-0.54450262],\n",
       "       [-0.53926702],\n",
       "       [-0.53403141],\n",
       "       [-0.52879581],\n",
       "       [-0.52356021],\n",
       "       [-0.51832461],\n",
       "       [-0.51308901],\n",
       "       [-0.5078534 ],\n",
       "       [-0.4973822 ],\n",
       "       [-0.4921466 ],\n",
       "       [-0.48691099],\n",
       "       [-0.48167539],\n",
       "       [-0.47643979],\n",
       "       [-0.47120419],\n",
       "       [-0.46596859],\n",
       "       [-0.46073298],\n",
       "       [-0.45549738],\n",
       "       [-0.45026178],\n",
       "       [-0.44502618],\n",
       "       [-0.43979058],\n",
       "       [-0.43455497],\n",
       "       [-0.42931937],\n",
       "       [-0.42408377],\n",
       "       [-0.41884817],\n",
       "       [-0.41361257],\n",
       "       [-0.40837696],\n",
       "       [-0.40314136],\n",
       "       [-0.39790576],\n",
       "       [-0.39267016],\n",
       "       [-0.38743455],\n",
       "       [-0.38219895],\n",
       "       [-0.37696335],\n",
       "       [-0.37172775],\n",
       "       [-0.36649215],\n",
       "       [-0.36125654],\n",
       "       [-0.35602094],\n",
       "       [-0.35078534],\n",
       "       [-0.34554974],\n",
       "       [-0.34031414],\n",
       "       [-0.32984293],\n",
       "       [-0.32460733],\n",
       "       [-0.31937173],\n",
       "       [-0.31413613],\n",
       "       [-0.30890052],\n",
       "       [-0.30366492],\n",
       "       [-0.29842932],\n",
       "       [-0.29319372],\n",
       "       [-0.28795812],\n",
       "       [-0.28272251],\n",
       "       [-0.27748691],\n",
       "       [-0.27225131],\n",
       "       [-0.26701571],\n",
       "       [-0.2617801 ],\n",
       "       [-0.2565445 ],\n",
       "       [-0.2513089 ],\n",
       "       [-0.2460733 ],\n",
       "       [-0.2408377 ],\n",
       "       [-0.23560209],\n",
       "       [-0.23036649],\n",
       "       [-0.22513089],\n",
       "       [-0.21989529],\n",
       "       [-0.21465969],\n",
       "       [-0.20942408],\n",
       "       [-0.20418848],\n",
       "       [-0.19895288],\n",
       "       [-0.19371728],\n",
       "       [-0.18848168],\n",
       "       [-0.18324607],\n",
       "       [-0.17801047],\n",
       "       [-0.17277487],\n",
       "       [-0.16230366],\n",
       "       [-0.15706806],\n",
       "       [-0.15183246],\n",
       "       [-0.14659686],\n",
       "       [-0.14136126],\n",
       "       [-0.13612565],\n",
       "       [-0.13089005],\n",
       "       [-0.12565445],\n",
       "       [-0.12041885],\n",
       "       [-0.11518325],\n",
       "       [-0.10994764],\n",
       "       [-0.10471204],\n",
       "       [-0.09947644],\n",
       "       [-0.09424084],\n",
       "       [-0.08900524],\n",
       "       [-0.08376963],\n",
       "       [-0.07853403],\n",
       "       [-0.07329843],\n",
       "       [-0.06806283],\n",
       "       [-0.06282723],\n",
       "       [-0.05759162],\n",
       "       [-0.05235602],\n",
       "       [-0.04712042],\n",
       "       [-0.04188482],\n",
       "       [-0.03664921],\n",
       "       [-0.03141361],\n",
       "       [-0.02617801],\n",
       "       [-0.02094241],\n",
       "       [-0.01570681],\n",
       "       [-0.0104712 ],\n",
       "       [-0.0052356 ],\n",
       "       [ 0.0052356 ],\n",
       "       [ 0.0104712 ],\n",
       "       [ 0.01570681],\n",
       "       [ 0.02094241],\n",
       "       [ 0.02617801],\n",
       "       [ 0.03141361],\n",
       "       [ 0.03664921],\n",
       "       [ 0.04188482],\n",
       "       [ 0.04712042],\n",
       "       [ 0.05235602],\n",
       "       [ 0.05759162],\n",
       "       [ 0.06282723],\n",
       "       [ 0.06806283],\n",
       "       [ 0.07329843],\n",
       "       [ 0.07853403],\n",
       "       [ 0.08376963],\n",
       "       [ 0.08900524],\n",
       "       [ 0.09424084],\n",
       "       [ 0.09947644],\n",
       "       [ 0.10471204],\n",
       "       [ 0.10994764],\n",
       "       [ 0.11518325],\n",
       "       [ 0.12041885],\n",
       "       [ 0.12565445],\n",
       "       [ 0.13089005],\n",
       "       [ 0.13612565],\n",
       "       [ 0.14136126],\n",
       "       [ 0.14659686],\n",
       "       [ 0.15183246],\n",
       "       [ 0.15706806],\n",
       "       [ 0.16230366],\n",
       "       [ 0.17277487],\n",
       "       [ 0.17801047],\n",
       "       [ 0.18324607],\n",
       "       [ 0.18848168],\n",
       "       [ 0.19371728],\n",
       "       [ 0.19895288],\n",
       "       [ 0.20418848],\n",
       "       [ 0.20942408],\n",
       "       [ 0.21465969],\n",
       "       [ 0.21989529],\n",
       "       [ 0.22513089],\n",
       "       [ 0.23036649],\n",
       "       [ 0.23560209],\n",
       "       [ 0.2408377 ],\n",
       "       [ 0.2460733 ],\n",
       "       [ 0.2513089 ],\n",
       "       [ 0.2565445 ],\n",
       "       [ 0.2617801 ],\n",
       "       [ 0.26701571],\n",
       "       [ 0.27225131],\n",
       "       [ 0.27748691],\n",
       "       [ 0.28272251],\n",
       "       [ 0.28795812],\n",
       "       [ 0.29319372],\n",
       "       [ 0.29842932],\n",
       "       [ 0.30366492],\n",
       "       [ 0.30890052],\n",
       "       [ 0.31413613],\n",
       "       [ 0.31937173],\n",
       "       [ 0.32460733],\n",
       "       [ 0.32984293],\n",
       "       [ 0.34031414],\n",
       "       [ 0.34554974],\n",
       "       [ 0.35078534],\n",
       "       [ 0.35602094],\n",
       "       [ 0.36125654],\n",
       "       [ 0.36649215],\n",
       "       [ 0.37172775],\n",
       "       [ 0.37696335],\n",
       "       [ 0.38219895],\n",
       "       [ 0.38743455],\n",
       "       [ 0.39267016],\n",
       "       [ 0.39790576],\n",
       "       [ 0.40314136],\n",
       "       [ 0.40837696],\n",
       "       [ 0.41361257],\n",
       "       [ 0.41884817],\n",
       "       [ 0.42408377],\n",
       "       [ 0.42931937],\n",
       "       [ 0.43455497],\n",
       "       [ 0.43979058],\n",
       "       [ 0.44502618],\n",
       "       [ 0.45026178],\n",
       "       [ 0.45549738],\n",
       "       [ 0.46073298],\n",
       "       [ 0.46596859],\n",
       "       [ 0.47120419],\n",
       "       [ 0.47643979],\n",
       "       [ 0.48167539],\n",
       "       [ 0.48691099],\n",
       "       [ 0.4921466 ],\n",
       "       [ 0.4973822 ],\n",
       "       [ 0.5078534 ],\n",
       "       [ 0.51308901],\n",
       "       [ 0.51832461],\n",
       "       [ 0.52356021],\n",
       "       [ 0.52879581],\n",
       "       [ 0.53403141],\n",
       "       [ 0.53926702],\n",
       "       [ 0.54450262],\n",
       "       [ 0.54973822],\n",
       "       [ 0.55497382],\n",
       "       [ 0.56020942],\n",
       "       [ 0.56544503],\n",
       "       [ 0.57068063],\n",
       "       [ 0.57591623],\n",
       "       [ 0.58115183],\n",
       "       [ 0.58638743],\n",
       "       [ 0.59162304],\n",
       "       [ 0.59685864],\n",
       "       [ 0.60209424],\n",
       "       [ 0.60732984],\n",
       "       [ 0.61256545],\n",
       "       [ 0.61780105],\n",
       "       [ 0.62303665],\n",
       "       [ 0.62827225],\n",
       "       [ 0.63350785],\n",
       "       [ 0.63874346],\n",
       "       [ 0.64397906],\n",
       "       [ 0.64921466],\n",
       "       [ 0.65445026],\n",
       "       [ 0.65968586],\n",
       "       [ 0.66492147],\n",
       "       [ 0.67539267],\n",
       "       [ 0.68062827],\n",
       "       [ 0.68586387],\n",
       "       [ 0.69109948],\n",
       "       [ 0.69633508],\n",
       "       [ 0.70157068],\n",
       "       [ 0.70680628],\n",
       "       [ 0.71204188],\n",
       "       [ 0.71727749],\n",
       "       [ 0.72251309],\n",
       "       [ 0.72774869],\n",
       "       [ 0.73298429],\n",
       "       [ 0.7382199 ],\n",
       "       [ 0.7434555 ],\n",
       "       [ 0.7486911 ],\n",
       "       [ 0.7539267 ],\n",
       "       [ 0.7591623 ],\n",
       "       [ 0.76439791],\n",
       "       [ 0.76963351],\n",
       "       [ 0.77486911],\n",
       "       [ 0.78010471],\n",
       "       [ 0.78534031],\n",
       "       [ 0.79057592],\n",
       "       [ 0.79581152],\n",
       "       [ 0.80104712],\n",
       "       [ 0.80628272],\n",
       "       [ 0.81151832],\n",
       "       [ 0.81675393],\n",
       "       [ 0.82198953],\n",
       "       [ 0.82722513],\n",
       "       [ 0.83246073],\n",
       "       [ 0.84293194],\n",
       "       [ 0.84816754],\n",
       "       [ 0.85340314],\n",
       "       [ 0.85863874],\n",
       "       [ 0.86387435],\n",
       "       [ 0.86910995],\n",
       "       [ 0.87434555],\n",
       "       [ 0.87958115],\n",
       "       [ 0.88481675],\n",
       "       [ 0.89005236],\n",
       "       [ 0.89528796],\n",
       "       [ 0.90052356],\n",
       "       [ 0.90575916],\n",
       "       [ 0.91099476],\n",
       "       [ 0.91623037],\n",
       "       [ 0.92146597],\n",
       "       [ 0.92670157],\n",
       "       [ 0.93193717],\n",
       "       [ 0.93717277],\n",
       "       [ 0.94240838],\n",
       "       [ 0.94764398],\n",
       "       [ 0.95287958],\n",
       "       [ 0.95811518],\n",
       "       [ 0.96335079],\n",
       "       [ 0.96858639],\n",
       "       [ 0.97382199],\n",
       "       [ 0.97905759],\n",
       "       [ 0.98429319],\n",
       "       [ 0.9895288 ],\n",
       "       [ 0.9947644 ],\n",
       "       [ 1.        ]])"
      ]
     },
     "execution_count": 124,
     "metadata": {},
     "output_type": "execute_result"
    }
   ],
   "source": [
    "mapping = MinMaxScaler(feature_range=(-1,1)).fit_transform(np.array(lists).reshape(-1,1))\n",
    "mapping"
   ]
  },
  {
   "cell_type": "code",
   "execution_count": 125,
   "metadata": {},
   "outputs": [],
   "source": [
    "day_2_value = dict(zip(days , np.squeeze(mapping)))"
   ]
  },
  {
   "cell_type": "code",
   "execution_count": 126,
   "metadata": {},
   "outputs": [],
   "source": [
    "data[\"month_day\"] = data[\"month_day\"].replace(day_2_value)"
   ]
  },
  {
   "cell_type": "code",
   "execution_count": 127,
   "metadata": {},
   "outputs": [
    {
     "data": {
      "text/plain": [
       "array([ 0.58638743,  0.58638743,  0.58638743, ..., -1.        ,\n",
       "       -1.        , -1.        ])"
      ]
     },
     "execution_count": 127,
     "metadata": {},
     "output_type": "execute_result"
    }
   ],
   "source": [
    "data[\"month_day\"].values"
   ]
  },
  {
   "cell_type": "code",
   "execution_count": null,
   "metadata": {},
   "outputs": [],
   "source": []
  },
  {
   "cell_type": "code",
   "execution_count": 128,
   "metadata": {},
   "outputs": [],
   "source": [
    "data.drop([\"dt\"], axis = 1 , inplace = True)"
   ]
  },
  {
   "cell_type": "code",
   "execution_count": 129,
   "metadata": {},
   "outputs": [],
   "source": [
    "farm_info = pd.read_csv(\"./outdata_farm_v5.csv\")\n",
    "farm_info = farm_info[['NO', 'LATITUDE', 'LONGITUDE']].drop_duplicates([\"NO\"]).reset_index(drop=True)\n",
    "mapping_info_farm = farm_info.rename(columns = {\"NO\" : \"farm_no_fake\"})\n",
    "where = data[[\"farm_no_fake\"]].merge(mapping_info_farm, how='left')"
   ]
  },
  {
   "cell_type": "code",
   "execution_count": 130,
   "metadata": {},
   "outputs": [],
   "source": [
    "where_cols = ['LATITUDE', 'LONGITUDE']\n",
    "data[where_cols] = where[where_cols]"
   ]
  },
  {
   "cell_type": "code",
   "execution_count": 131,
   "metadata": {},
   "outputs": [
    {
     "data": {
      "text/plain": [
       "MinMaxScaler(copy=True, feature_range=(-1, 1))"
      ]
     },
     "execution_count": 131,
     "metadata": {},
     "output_type": "execute_result"
    }
   ],
   "source": [
    "lat = MinMaxScaler(feature_range=(-1,1))\n",
    "lon = MinMaxScaler(feature_range=(-1,1))\n",
    "lat.fit(np.append(data[\"LATITUDE\"].values , [33,43]).reshape(-1,1))\n",
    "lon.fit(np.append(data[\"LONGITUDE\"].values , [124,132]).reshape(-1,1))"
   ]
  },
  {
   "cell_type": "code",
   "execution_count": 132,
   "metadata": {},
   "outputs": [],
   "source": [
    "data[\"LATITUDE\"] = lat.transform(data[\"LATITUDE\"].values.reshape(-1,1))\n",
    "data[\"LONGITUDE\"] = lon.transform(data[\"LONGITUDE\"].values.reshape(-1,1))"
   ]
  },
  {
   "cell_type": "code",
   "execution_count": 133,
   "metadata": {},
   "outputs": [],
   "source": [
    "trans_cols = data.columns.tolist()\n",
    "trans_cols.remove(\"farm_no_fake\")\n",
    "data[trans_cols] = data[trans_cols].astype(float)"
   ]
  },
  {
   "cell_type": "code",
   "execution_count": 134,
   "metadata": {},
   "outputs": [],
   "source": [
    "#data.select_dtypes(\"object\")\n",
    "information = {}\n",
    "information[\"monthday_2_value\"] = day_2_value\n",
    "information[\"farm_where\"] = where\n",
    "information[\"lat_minmax\"] = lat\n",
    "information[\"lon_minmax\"] = lon\n",
    "information[\"vartype\"] = vartypes\n",
    "with open('./total_2020_IITP_v2.pkl', 'wb') as wb :\n",
    "    dill.dump(information, wb)"
   ]
  },
  {
   "cell_type": "code",
   "execution_count": 135,
   "metadata": {},
   "outputs": [
    {
     "data": {
      "image/png": "[encoded data removed]",
      "text/plain": [
       "<Figure size 432x288 with 1 Axes>"
      ]
     },
     "metadata": {
      "needs_background": "light"
     },
     "output_type": "display_data"
    }
   ],
   "source": [
    "import matplotlib.pyplot as plt\n",
    "# plt.scatter(data[\"LATITUDE\"].values , data[\"LONGITUDE\"].values)\n",
    "# plt.show()\n",
    "groups = data.groupby('occur')\n",
    "fig, ax = plt.subplots()\n",
    "for name, group in groups:\n",
    "    ax.plot(group.LATITUDE, \n",
    "            group.LONGITUDE, \n",
    "            marker='o', \n",
    "            linestyle='',\n",
    "            label=name)\n",
    "ax.legend(fontsize=12, loc='upper left') # legend position\n",
    "plt.title('Scatter Plot of IITP by matplotlib', fontsize=20)\n",
    "plt.xlabel('LATITUDE', fontsize=14)\n",
    "plt.ylabel('LONGITUDE', fontsize=14)\n",
    "plt.show()"
   ]
  },
  {
   "cell_type": "code",
   "execution_count": 136,
   "metadata": {},
   "outputs": [
    {
     "data": {
      "text/plain": [
       "(612906, 46)"
      ]
     },
     "execution_count": 136,
     "metadata": {},
     "output_type": "execute_result"
    }
   ],
   "source": [
    "data.shape"
   ]
  },
  {
   "cell_type": "code",
   "execution_count": 137,
   "metadata": {},
   "outputs": [],
   "source": [
    "data.to_feather(\"/var/disk/total_2020_change_v2.ftr\")"
   ]
  },
  {
   "cell_type": "code",
   "execution_count": null,
   "metadata": {},
   "outputs": [],
   "source": []
  }
 ],
 "metadata": {
  "kernelspec": {
   "display_name": "base",
   "language": "python",
   "name": "base"
  },
  "language_info": {
   "codemirror_mode": {
    "name": "ipython",
    "version": 3
   },
   "file_extension": ".py",
   "mimetype": "text/x-python",
   "name": "python",
   "nbconvert_exporter": "python",
   "pygments_lexer": "ipython3",
   "version": "3.6.7"
  }
 },
 "nbformat": 4,
 "nbformat_minor": 2
}
